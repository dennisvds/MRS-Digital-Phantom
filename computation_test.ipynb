{
 "cells": [
  {
   "cell_type": "markdown",
   "metadata": {},
   "source": [
    "# Computation Times for MRS Phantom Framwork\n",
    "This notebook calculates the computation times for all processing steps in the 3D MRS data simulation framework."
   ]
  },
  {
   "cell_type": "markdown",
   "metadata": {},
   "source": [
    "## Imports"
   ]
  },
  {
   "cell_type": "code",
   "execution_count": 1,
   "metadata": {},
   "outputs": [],
   "source": [
    "## Imports\n",
    "# Standard libraries\n",
    "import numpy as np\n",
    "import os\n",
    "\n",
    "# Own libraries\n",
    "from preprocessing.preprocess_df import create_metab_df\n",
    "\n",
    "from DigitalPhantom import DigitalPhantom\n",
    "\n",
    "from simulation.basis import Basis\n",
    "from simulation.signalModels import SignalModel\n",
    "from simulation.simulation import simulate_spectra\n",
    "\n",
    "from utils.auxillary import downsample_mrsi, save_nifti_mrsi, timer, save_hdf5_mrsi\n",
    "from utils.visualizations import plot_metabolite_map, plot_mrsi"
   ]
  },
  {
   "cell_type": "markdown",
   "metadata": {},
   "source": [
    "## Settings"
   ]
  },
  {
   "cell_type": "code",
   "execution_count": 2,
   "metadata": {},
   "outputs": [],
   "source": [
    "# skeleton = 'MRiLab'\n",
    "skeleton = 'BigBrainMR'\n",
    "\n",
    "# resolution = 1.0\n",
    "# target_resolution = (5.0, 5.0, 5.0)\n",
    "\n",
    "resolution = 3.0\n",
    "target_resolution = (6.0, 6.0, 6.0)"
   ]
  },
  {
   "cell_type": "markdown",
   "metadata": {},
   "source": [
    "## Metabolite Database Filtering"
   ]
  },
  {
   "cell_type": "code",
   "execution_count": 3,
   "metadata": {},
   "outputs": [
    {
     "name": "stdout",
     "output_type": "stream",
     "text": [
      "LOADING MRS DATABASE...\n",
      "Preprocess concentration dataframe...\n",
      "Filtering on \"['Healthy', 'Control']\" group... \n",
      "          Before: Unique articles - 351, Entries - 9136 \n",
      "          After : Unique articles - 291, Entries - 3812\n",
      "        \n",
      "Dropping entries where no information about GM/WM is present... \n",
      "          Before: Unique articles - 291, Entries - 3812 \n",
      "          After : Unique articles - 100, Entries - 1412\n",
      "        \n",
      "Change percentages to fractions...\n",
      "Assign tissue value based on GM/WM fractions (boundary: 0.6)...\n",
      "Drop all entries that are not WM or GM... \n",
      "          Before: Unique articles - 100, Entries - 1412 \n",
      "          After : Unique articles - 71, Entries - 847\n",
      "        \n",
      "Change NaN values to 0...\n",
      "Select age range of 18-60 years... \n",
      "          Before: Unique articles - 71, Entries - 847 \n",
      "          After : Unique articles - 54, Entries - 585\n",
      "        \n",
      "Remove all MM entries... \n",
      "          Before: Unique articles - 54, Entries - 585 \n",
      "          After : Unique articles - 54, Entries - 585\n",
      "        \n",
      "Change \"Name\" to \"Metabolite\"...\n",
      "Preprocess T2 dataframe...\n",
      "Filtering on \"['Healthy', 'Control']\" group... \n",
      "          Before: Unique articles - 84, Entries - 1057 \n",
      "          After : Unique articles - 77, Entries - 759\n",
      "        \n",
      "Dropping entries where no information about GM/WM is present... \n",
      "          Before: Unique articles - 77, Entries - 759 \n",
      "          After : Unique articles - 77, Entries - 759\n",
      "        \n",
      "Change percentages to fractions...\n",
      "Assign tissue value based on GM/WM fractions (boundary: 0.6)...\n",
      "Drop all entries that are not WM or GM... \n",
      "          Before: Unique articles - 77, Entries - 759 \n",
      "          After : Unique articles - 38, Entries - 483\n",
      "        \n",
      "Change NaN values to 0...\n",
      "Select age range of 18-60 years... \n",
      "          Before: Unique articles - 38, Entries - 483 \n",
      "          After : Unique articles - 34, Entries - 459\n",
      "        \n",
      "Remove all MM entries... \n",
      "          Before: Unique articles - 34, Entries - 459 \n",
      "          After : Unique articles - 33, Entries - 388\n",
      "        \n",
      "Change \"Name\" to \"Metabolite\"...\n",
      "Filter T2 data on magnetic field strength...\n",
      "Filtering on 3.0 Tesla... \n",
      "          Before: Unique articles - 33, Entries - 388 \n",
      "          After : Unique articles - 18, Entries - 219\n",
      "        \n",
      "Splitting tCr into ['Cr', 'PCr']...\n",
      "Splitting tNAA into ['NAA', 'NAAG']...\n",
      "Splitting Glx into ['Glu', 'Gln']...\n",
      "Splitting tCho into ['PCh', 'GPC']...\n",
      "Change metabolite names in concentrations dataframe to names in definitions.py...\n",
      "Metabolite 'Cre' is not in METABS...\n",
      "Change metabolite name 'Cre' to 'Cr'...\n",
      "Metabolite 'Myo' is not in METABS...\n",
      "Change metabolite name 'Myo' to 'mI'...\n",
      "Metabolite 'Scy' is not in METABS...\n",
      "Change metabolite name 'Scy' to 'sI'...\n",
      "Change metabolite names in T2 dataframe to names in definitions.py...\n",
      "Metabolite 'GPC_Gly' is not in METABS...\n",
      "Change metabolite name 'GPC_Gly' to 'GPC'...\n",
      "Metabolite 'GPC_Mult' is not in METABS...\n",
      "Change metabolite name 'GPC_Mult' to 'GPC'...\n",
      "Metabolite 'Cre_CH3' is not in METABS...\n",
      "Change metabolite name 'Cre_CH3' to 'Cr'...\n",
      "Metabolite 'Cre_CH2' is not in METABS...\n",
      "Change metabolite name 'Cre_CH2' to 'Cr'...\n",
      "Metabolite 'Myo' is not in METABS...\n",
      "Change metabolite name 'Myo' to 'mI'...\n",
      "Metabolite 'NAA_CH3' is not in METABS...\n",
      "Change metabolite name 'NAA_CH3' to 'NAA'...\n",
      "Metabolite 'NAAG_CH3' is not in METABS...\n",
      "Change metabolite name 'NAAG_CH3' to 'NAAG'...\n",
      "Metabolite 'NAAG_Asp' is not in METABS...\n",
      "Change metabolite name 'NAAG_Asp' to 'NAAG'...\n",
      "Metabolite 'NAAG_Glu' is not in METABS...\n",
      "Change metabolite name 'NAAG_Glu' to 'NAAG'...\n",
      "Metabolite 'PCho' is not in METABS...\n",
      "Change metabolite name 'PCho' to 'PCh'...\n",
      "Metabolite 'Scy' is not in METABS...\n",
      "Change metabolite name 'Scy' to 'sI'...\n",
      "Collapse mM and IU concentrations...\n",
      "DONE LOADING MRS DATABASE!\n",
      "Properties of dfConcs:\n",
      "        Shape                       : (783, 22)\n",
      "        Number of unique references : 54\n",
      "        Number of unique metabolites: 19\n",
      "        Metabolites with WM info    : ['Asp', 'Cr', 'GABA', 'GPC', 'GSH', 'Gln', 'Glu', 'NAA', 'NAAG', 'PCh', 'PCr', 'Tau', 'mI', 'sI']\n",
      "        Metabolites with GM info    : ['Asc', 'Asp', 'Cr', 'GABA', 'GPC', 'GSH', 'Glc', 'Gln', 'Glu', 'Gly', 'Lac', 'NAA', 'NAAG', 'PCh', 'PCr', 'PE', 'Tau', 'mI', 'sI']\n",
      "    \n",
      "Properties of dfT2:\n",
      "          Shape                       : (219, 19)\n",
      "          Number of unique references : 18\n",
      "          Number of unique metabolites: 19\n",
      "          Metabolites with WM info    : ['Asc', 'Asp', 'Cr', 'GPC', 'GSH', 'Gln', 'Glu', 'Gly', 'H2O', 'Lac', 'NAA', 'NAAG', 'NAA_Asp', 'PCh', 'PE', 'mI', 'sI']\n",
      "          Metabolites with GM info    : ['Asc', 'Asp', 'Cr', 'GABA', 'GPC', 'GSH', 'Gln', 'Glu', 'Gly', 'H2O', 'Lac', 'NAA', 'NAAG', 'NAA_Asp', 'PCh', 'PE', 'Tau', 'mI', 'sI']\n",
      "                                         \n",
      "Saved metabolite dataframe!\n",
      "Duration: 1.6720 seconds\n"
     ]
    }
   ],
   "source": [
    "# Calculate the time taken to create the dataframe\n",
    "with timer():\n",
    "    # Create metabolite dataframe\n",
    "    metab_df, concs_df, t2_df = create_metab_df(\n",
    "                labels=['Background', 'WM', 'GM', 'CSF'],   # Tissue labels to include\n",
    "                groups=['Healthy', 'Control'],              # Group labels to include\n",
    "                fraction_boundary=0.6,                      # Tissue fraction boundary for GM/WM labelling\n",
    "                age_range=[18, 60],                         # Age range for studies to include\n",
    "                tesla=3.0,                                  # Magnetic field strength to include               \n",
    "                save=True,                                  # Save created dataframe to a csv file          \n",
    "    )"
   ]
  },
  {
   "cell_type": "markdown",
   "metadata": {},
   "source": [
    "## Generating Phantom"
   ]
  },
  {
   "cell_type": "code",
   "execution_count": 4,
   "metadata": {},
   "outputs": [
    {
     "name": "stdout",
     "output_type": "stream",
     "text": [
      "Initializing Digital Phantom...\n",
      "Creating a new phantom from scratch...\n",
      "Creating phantom data...\n",
      "Creating phantom dictionary...\n"
     ]
    },
    {
     "name": "stderr",
     "output_type": "stream",
     "text": [
      "100%|██████████| 84/84 [00:02<00:00, 29.40it/s]\n"
     ]
    },
    {
     "name": "stdout",
     "output_type": "stream",
     "text": [
      "Populating phantom array...\n"
     ]
    },
    {
     "name": "stderr",
     "output_type": "stream",
     "text": [
      "100%|██████████| 185900/185900 [00:01<00:00, 133155.40it/s]\n"
     ]
    },
    {
     "name": "stdout",
     "output_type": "stream",
     "text": [
      "Saving phantom data...\n",
      "Saving NIfTI files...\n"
     ]
    },
    {
     "name": "stderr",
     "output_type": "stream",
     "text": [
      "100%|██████████| 5/5 [00:00<00:00,  9.53it/s]\n"
     ]
    },
    {
     "name": "stdout",
     "output_type": "stream",
     "text": [
      "Phantom data saved successfully to \"./data/phantom/BigBrainMR/3.0mm\"\n",
      "Phantom created and saved at \"./data/phantom/BigBrainMR/3.0mm\".\n",
      "Duration: 11.1167 seconds\n"
     ]
    }
   ],
   "source": [
    "# Track the time taken to create the phantom\n",
    "with timer():\n",
    "    # Create a DigitalPhantom object\n",
    "    phantom = DigitalPhantom(\n",
    "        # General settings\n",
    "        skeleton=skeleton,                         \n",
    "        resolution=resolution,                                    \n",
    "        path2phantom='./data/phantom/',            \n",
    "        from_scratch=True,                     \n",
    "        # Metabolite settings\n",
    "        concs_std=0.05,                         \n",
    "        # Lipid settings\n",
    "        sigma_lipid_spread=3.5,                     \n",
    "        # Gradient settings\n",
    "        grad_metabs=['NAA'], \n",
    "        grad_settings=[0.5, 3, '+y']\n",
    "        )"
   ]
  },
  {
   "cell_type": "markdown",
   "metadata": {},
   "source": [
    "## Loading Phantom"
   ]
  },
  {
   "cell_type": "code",
   "execution_count": 5,
   "metadata": {},
   "outputs": [
    {
     "name": "stdout",
     "output_type": "stream",
     "text": [
      "Initializing Digital Phantom...\n",
      "Phantom found at \"./data/phantom/BigBrainMR/3.0mm\". Loading phantom...\n",
      "Phantom loaded!\n",
      "Duration: 0.3719 seconds\n"
     ]
    }
   ],
   "source": [
    "# Track the time taken to create the phantom\n",
    "with timer():\n",
    "    # Create a DigitalPhantom object\n",
    "    phantom = DigitalPhantom(\n",
    "        # General settings\n",
    "        skeleton=skeleton,                         \n",
    "        resolution=resolution,                                    \n",
    "        path2phantom='./data/phantom/',            \n",
    "        from_scratch=False,                     \n",
    "        # Metabolite settings\n",
    "        concs_std=0.05,                         \n",
    "        # Lipid settings\n",
    "        sigma_lipid_spread=3.5,                     \n",
    "        # Gradient settings\n",
    "        grad_metabs=['NAA'], \n",
    "        grad_settings=[0.5, 3, '+y']\n",
    "        )"
   ]
  },
  {
   "cell_type": "markdown",
   "metadata": {},
   "source": [
    "## Spectral Simulation\n",
    "Here, all slices will be simulated."
   ]
  },
  {
   "cell_type": "code",
   "execution_count": 6,
   "metadata": {},
   "outputs": [
    {
     "name": "stdout",
     "output_type": "stream",
     "text": [
      "There are metabolites in the data that are not present in the basis: ['Glc', 'NAA_Asp']\n",
      "Removing these metabolites from the data...\n",
      "Simulating spectra for 61412 voxels...\n"
     ]
    },
    {
     "name": "stderr",
     "output_type": "stream",
     "text": [
      "100%|██████████| 62/62 [01:13<00:00,  1.19s/it]"
     ]
    },
    {
     "name": "stdout",
     "output_type": "stream",
     "text": [
      "Spectral simulation completed!\n",
      "Duration: 73.8573 seconds\n",
      "\n",
      "Size of the simulated spectra: (52, 65, 55, 2048)\n"
     ]
    },
    {
     "name": "stderr",
     "output_type": "stream",
     "text": [
      "\n"
     ]
    }
   ],
   "source": [
    "path2basis = './data/Basissets/3T/Philips_TE30_PRESS_pMMupdated.mat'\n",
    "\n",
    "phantom_metabs = list(phantom.metab_mapping.keys())\n",
    "\n",
    "basis = Basis(path2basis, fmt='osprey', bw=2000, points=2048, metabs=[], phantom_metabs=phantom_metabs)\n",
    "signalModel = SignalModel(basis, gauss_broadening=15, mm_scale=1000, noise_std=1000, res_water_scale=5, lipid_scale=10, baseline_order=2, baseline_scale=400)\n",
    "\n",
    "with timer():   \n",
    "    ppm_axis, spectra = simulate_spectra(phantom, basis, sigModel=signalModel, metabs=[], slice_range=[], batch_size=1000)\n",
    "\n",
    "print(f\"\\nSize of the simulated spectra: {spectra.shape}\")"
   ]
  },
  {
   "cell_type": "markdown",
   "metadata": {},
   "source": [
    "## Downsampling MRSI + Saving NIfTI-MRS file"
   ]
  },
  {
   "cell_type": "code",
   "execution_count": 7,
   "metadata": {},
   "outputs": [
    {
     "name": "stdout",
     "output_type": "stream",
     "text": [
      "Saving MRSI data as HDF5 file to /Volumes/Samsung_T7/data/Digital_Brain_Phantom/BigBrainMR/3.0mm/mrsi_simulated_DEMO.h5...\n",
      "Saving HDF5 file done!\n",
      "Starting downsampling...\n",
      "Padding MRSI data with [(0, 0), (0, 1), (0, 1), (0, 0)]...\n",
      "Downsampling MRSI data from (3.0, 3.0, 3.0) mm to (6.0, 6.0, 6.0) mm...\n",
      "[########################################] | 100% Completed | 7.32 sms\n",
      "Downsampling completed!\n",
      "Saving mrs-nifti file...\n",
      "Done!\n",
      "Duration: 15.9996 seconds\n"
     ]
    }
   ],
   "source": [
    "# Save temporary file\n",
    "with timer():\n",
    "    # Save HDF5 file\n",
    "    save_dir = '/Volumes/Samsung_T7/data/Digital_Brain_Phantom'\n",
    "    os.makedirs(save_dir, exist_ok=True)\n",
    "\n",
    "    save_name = 'mrsi_simulated_DEMO'\n",
    "    file_name = save_hdf5_mrsi(spectra, save_dir, save_name, phantom)\n",
    "\n",
    "    # Downsample and save nifti-mrsi\n",
    "    path2save = os.path.join(phantom.path2phantom, 'mrsi')\n",
    "    os.makedirs(path2save, exist_ok=True)\n",
    "    reduced_data, new_affine = downsample_mrsi(file_name, phantom.affine, target_resolution=target_resolution)\n",
    "    save_nifti_mrsi(reduced_data, basis, new_affine, etime=35, rtime=1.0, path2save=path2save, save_name='DEMO_RUN')"
   ]
  }
 ],
 "metadata": {
  "kernelspec": {
   "display_name": "mrs-phantom",
   "language": "python",
   "name": "python3"
  },
  "language_info": {
   "codemirror_mode": {
    "name": "ipython",
    "version": 3
   },
   "file_extension": ".py",
   "mimetype": "text/x-python",
   "name": "python",
   "nbconvert_exporter": "python",
   "pygments_lexer": "ipython3",
   "version": "3.12.2"
  }
 },
 "nbformat": 4,
 "nbformat_minor": 2
}
